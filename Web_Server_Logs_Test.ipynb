{
  "nbformat": 4,
  "nbformat_minor": 0,
  "metadata": {
    "colab": {
      "name": "Web Server Logs Test",
      "provenance": [],
      "collapsed_sections": [],
      "toc_visible": true,
      "authorship_tag": "ABX9TyMK0WHixGlydn1oWOBZ06ec",
      "include_colab_link": true
    },
    "kernelspec": {
      "name": "python3",
      "display_name": "Python 3"
    }
  },
  "cells": [
    {
      "cell_type": "markdown",
      "metadata": {
        "id": "view-in-github",
        "colab_type": "text"
      },
      "source": [
        "<a href=\"https://colab.research.google.com/github/huanyanwei/analytics-projects/blob/main/Web_Server_Logs_Test.ipynb\" target=\"_parent\"><img src=\"https://colab.research.google.com/assets/colab-badge.svg\" alt=\"Open In Colab\"/></a>"
      ]
    },
    {
      "cell_type": "markdown",
      "metadata": {
        "id": "IHvAkGv8yIIG"
      },
      "source": [
        "# Actual Data\n",
        "\n",
        "To calculate expected values `f_exp`"
      ]
    },
    {
      "cell_type": "code",
      "metadata": {
        "colab": {
          "base_uri": "https://localhost:8080/",
          "height": 197
        },
        "id": "7GEFdtZS-lsP",
        "outputId": "c17883fe-dfc2-4fab-fd72-261a6cf3791c"
      },
      "source": [
        "import pandas as pd \n",
        "\n",
        "data = pd.read_csv(\"weblog_2.csv\") \n",
        "data.head()"
      ],
      "execution_count": null,
      "outputs": [
        {
          "output_type": "execute_result",
          "data": {
            "text/html": [
              "<div>\n",
              "<style scoped>\n",
              "    .dataframe tbody tr th:only-of-type {\n",
              "        vertical-align: middle;\n",
              "    }\n",
              "\n",
              "    .dataframe tbody tr th {\n",
              "        vertical-align: top;\n",
              "    }\n",
              "\n",
              "    .dataframe thead th {\n",
              "        text-align: right;\n",
              "    }\n",
              "</style>\n",
              "<table border=\"1\" class=\"dataframe\">\n",
              "  <thead>\n",
              "    <tr style=\"text-align: right;\">\n",
              "      <th></th>\n",
              "      <th>IP</th>\n",
              "      <th>Time</th>\n",
              "      <th>URL</th>\n",
              "      <th>Status</th>\n",
              "    </tr>\n",
              "  </thead>\n",
              "  <tbody>\n",
              "    <tr>\n",
              "      <th>0</th>\n",
              "      <td>10.128.2.1</td>\n",
              "      <td>[29/Nov/2017:06:58:55</td>\n",
              "      <td>GET /login.php HTTP/1.1</td>\n",
              "      <td>200</td>\n",
              "    </tr>\n",
              "    <tr>\n",
              "      <th>1</th>\n",
              "      <td>10.128.2.1</td>\n",
              "      <td>[29/Nov/2017:06:59:02</td>\n",
              "      <td>POST /process.php HTTP/1.1</td>\n",
              "      <td>302</td>\n",
              "    </tr>\n",
              "    <tr>\n",
              "      <th>2</th>\n",
              "      <td>10.128.2.1</td>\n",
              "      <td>[29/Nov/2017:06:59:03</td>\n",
              "      <td>GET /home.php HTTP/1.1</td>\n",
              "      <td>200</td>\n",
              "    </tr>\n",
              "    <tr>\n",
              "      <th>3</th>\n",
              "      <td>10.131.2.1</td>\n",
              "      <td>[29/Nov/2017:06:59:04</td>\n",
              "      <td>GET /js/vendor/moment.min.js HTTP/1.1</td>\n",
              "      <td>200</td>\n",
              "    </tr>\n",
              "    <tr>\n",
              "      <th>4</th>\n",
              "      <td>10.130.2.1</td>\n",
              "      <td>[29/Nov/2017:06:59:06</td>\n",
              "      <td>GET /bootstrap-3.3.7/js/bootstrap.js HTTP/1.1</td>\n",
              "      <td>200</td>\n",
              "    </tr>\n",
              "  </tbody>\n",
              "</table>\n",
              "</div>"
            ],
            "text/plain": [
              "           IP  ... Status\n",
              "0  10.128.2.1  ...    200\n",
              "1  10.128.2.1  ...    302\n",
              "2  10.128.2.1  ...    200\n",
              "3  10.131.2.1  ...    200\n",
              "4  10.130.2.1  ...    200\n",
              "\n",
              "[5 rows x 4 columns]"
            ]
          },
          "metadata": {
            "tags": []
          },
          "execution_count": 1
        }
      ]
    },
    {
      "cell_type": "code",
      "metadata": {
        "id": "ZJvPq9FtPu40"
      },
      "source": [
        "df = data\n",
        "df[['Type','Page','Ignore']] = df['URL'].str.split(' ', 2, expand=True)"
      ],
      "execution_count": null,
      "outputs": []
    },
    {
      "cell_type": "code",
      "metadata": {
        "colab": {
          "base_uri": "https://localhost:8080/",
          "height": 197
        },
        "id": "1IClya3kFlbg",
        "outputId": "49006ce3-61d4-48c9-cb27-c94d97cbdb34"
      },
      "source": [
        "df.head()"
      ],
      "execution_count": null,
      "outputs": [
        {
          "output_type": "execute_result",
          "data": {
            "text/html": [
              "<div>\n",
              "<style scoped>\n",
              "    .dataframe tbody tr th:only-of-type {\n",
              "        vertical-align: middle;\n",
              "    }\n",
              "\n",
              "    .dataframe tbody tr th {\n",
              "        vertical-align: top;\n",
              "    }\n",
              "\n",
              "    .dataframe thead th {\n",
              "        text-align: right;\n",
              "    }\n",
              "</style>\n",
              "<table border=\"1\" class=\"dataframe\">\n",
              "  <thead>\n",
              "    <tr style=\"text-align: right;\">\n",
              "      <th></th>\n",
              "      <th>IP</th>\n",
              "      <th>Time</th>\n",
              "      <th>URL</th>\n",
              "      <th>Status</th>\n",
              "      <th>Type</th>\n",
              "      <th>Page</th>\n",
              "      <th>Ignore</th>\n",
              "    </tr>\n",
              "  </thead>\n",
              "  <tbody>\n",
              "    <tr>\n",
              "      <th>0</th>\n",
              "      <td>10.128.2.1</td>\n",
              "      <td>[29/Nov/2017:06:58:55</td>\n",
              "      <td>GET /login.php HTTP/1.1</td>\n",
              "      <td>200</td>\n",
              "      <td>GET</td>\n",
              "      <td>/login.php</td>\n",
              "      <td>HTTP/1.1</td>\n",
              "    </tr>\n",
              "    <tr>\n",
              "      <th>1</th>\n",
              "      <td>10.128.2.1</td>\n",
              "      <td>[29/Nov/2017:06:59:02</td>\n",
              "      <td>POST /process.php HTTP/1.1</td>\n",
              "      <td>302</td>\n",
              "      <td>POST</td>\n",
              "      <td>/process.php</td>\n",
              "      <td>HTTP/1.1</td>\n",
              "    </tr>\n",
              "    <tr>\n",
              "      <th>2</th>\n",
              "      <td>10.128.2.1</td>\n",
              "      <td>[29/Nov/2017:06:59:03</td>\n",
              "      <td>GET /home.php HTTP/1.1</td>\n",
              "      <td>200</td>\n",
              "      <td>GET</td>\n",
              "      <td>/home.php</td>\n",
              "      <td>HTTP/1.1</td>\n",
              "    </tr>\n",
              "    <tr>\n",
              "      <th>3</th>\n",
              "      <td>10.131.2.1</td>\n",
              "      <td>[29/Nov/2017:06:59:04</td>\n",
              "      <td>GET /js/vendor/moment.min.js HTTP/1.1</td>\n",
              "      <td>200</td>\n",
              "      <td>GET</td>\n",
              "      <td>/js/vendor/moment.min.js</td>\n",
              "      <td>HTTP/1.1</td>\n",
              "    </tr>\n",
              "    <tr>\n",
              "      <th>4</th>\n",
              "      <td>10.130.2.1</td>\n",
              "      <td>[29/Nov/2017:06:59:06</td>\n",
              "      <td>GET /bootstrap-3.3.7/js/bootstrap.js HTTP/1.1</td>\n",
              "      <td>200</td>\n",
              "      <td>GET</td>\n",
              "      <td>/bootstrap-3.3.7/js/bootstrap.js</td>\n",
              "      <td>HTTP/1.1</td>\n",
              "    </tr>\n",
              "  </tbody>\n",
              "</table>\n",
              "</div>"
            ],
            "text/plain": [
              "           IP  ...    Ignore\n",
              "0  10.128.2.1  ...  HTTP/1.1\n",
              "1  10.128.2.1  ...  HTTP/1.1\n",
              "2  10.128.2.1  ...  HTTP/1.1\n",
              "3  10.131.2.1  ...  HTTP/1.1\n",
              "4  10.130.2.1  ...  HTTP/1.1\n",
              "\n",
              "[5 rows x 7 columns]"
            ]
          },
          "metadata": {
            "tags": []
          },
          "execution_count": 43
        }
      ]
    },
    {
      "cell_type": "code",
      "metadata": {
        "colab": {
          "base_uri": "https://localhost:8080/"
        },
        "id": "qk5DjHWdR28r",
        "outputId": "fcf40e1a-70e9-4eed-ca27-23123622b881"
      },
      "source": [
        "df['Status'].value_counts(normalize=True) * 100"
      ],
      "execution_count": null,
      "outputs": [
        {
          "output_type": "execute_result",
          "data": {
            "text/plain": [
              "200    71.758819\n",
              "302    22.154665\n",
              "304     4.167458\n",
              "404     1.589714\n",
              "206     0.329343\n",
              "Name: Status, dtype: float64"
            ]
          },
          "metadata": {
            "tags": []
          },
          "execution_count": 3
        }
      ]
    },
    {
      "cell_type": "code",
      "metadata": {
        "colab": {
          "base_uri": "https://localhost:8080/"
        },
        "id": "30wLZf2UR3Em",
        "outputId": "ba8b6203-4815-4c62-aa4d-cfd09eefa3f4"
      },
      "source": [
        "df['Type'].value_counts(normalize=True) * 100"
      ],
      "execution_count": null,
      "outputs": [
        {
          "output_type": "execute_result",
          "data": {
            "text/plain": [
              "GET     95.623535\n",
              "POST     4.319463\n",
              "HEAD     0.057002\n",
              "Name: Type, dtype: float64"
            ]
          },
          "metadata": {
            "tags": []
          },
          "execution_count": 4
        }
      ]
    },
    {
      "cell_type": "code",
      "metadata": {
        "colab": {
          "base_uri": "https://localhost:8080/"
        },
        "id": "NUsnBH71WJBz",
        "outputId": "eeb7f4db-7898-4f7e-bac0-8078df9394f1"
      },
      "source": [
        "df['Page'].value_counts(normalize=True) * 100"
      ],
      "execution_count": null,
      "outputs": [
        {
          "output_type": "execute_result",
          "data": {
            "text/plain": [
              "/login.php                                                         20.887960\n",
              "/home.php                                                          16.802837\n",
              "/js/vendor/modernizr-2.8.3.min.js                                   8.974603\n",
              "/                                                                   5.459497\n",
              "/contestproblem.php?name=RUET%20OJ%20Server%20Testing%20Contest     2.957755\n",
              "                                                                     ...    \n",
              "/edit.php?name=ksrsingh                                             0.006334\n",
              "/details.php?name=Magic%20Square&cod=13                             0.006334\n",
              "/allsubmission.php?name=zerocool                                    0.006334\n",
              "/standings.php?id=3                                                 0.006334\n",
              "/countdown.php                                                      0.006334\n",
              "Name: Page, Length: 265, dtype: float64"
            ]
          },
          "metadata": {
            "tags": []
          },
          "execution_count": 5
        }
      ]
    },
    {
      "cell_type": "code",
      "metadata": {
        "colab": {
          "base_uri": "https://localhost:8080/"
        },
        "id": "pg7oJ0MJWJF2",
        "outputId": "1a03726b-d2cb-4f61-eb58-fb3d9463185a"
      },
      "source": [
        "# Remove anything from \"?\" onwards as they may be from the same page\n",
        "df['Page_New'] = df['Page'].str.split('?').str[0]\n",
        "df['Page_New'].head()"
      ],
      "execution_count": null,
      "outputs": [
        {
          "output_type": "execute_result",
          "data": {
            "text/plain": [
              "0                          /login.php\n",
              "1                        /process.php\n",
              "2                           /home.php\n",
              "3            /js/vendor/moment.min.js\n",
              "4    /bootstrap-3.3.7/js/bootstrap.js\n",
              "Name: Page_New, dtype: object"
            ]
          },
          "metadata": {
            "tags": []
          },
          "execution_count": 6
        }
      ]
    },
    {
      "cell_type": "code",
      "metadata": {
        "colab": {
          "base_uri": "https://localhost:8080/"
        },
        "id": "MVeKCqdxWJJH",
        "outputId": "9a027234-b7fc-4911-a759-ef9de1280c92"
      },
      "source": [
        "df['Page_New'].value_counts(normalize=True) * 100"
      ],
      "execution_count": null,
      "outputs": [
        {
          "output_type": "execute_result",
          "data": {
            "text/plain": [
              "/login.php                                   21.698651\n",
              "/home.php                                    16.802837\n",
              "/js/vendor/modernizr-2.8.3.min.js             8.974603\n",
              "/                                             5.459497\n",
              "/contestproblem.php                           3.521439\n",
              "                                               ...    \n",
              "/fonts/glyphicons-halflings-regular.woff2     0.019001\n",
              "/fonts/glyphicons-halflings-regular.woff      0.012667\n",
              "//home.php                                    0.012667\n",
              "/adminpanel.php                               0.006334\n",
              "/css/bootstrap.min.css.map                    0.006334\n",
              "Name: Page_New, Length: 62, dtype: float64"
            ]
          },
          "metadata": {
            "tags": []
          },
          "execution_count": 7
        }
      ]
    },
    {
      "cell_type": "code",
      "metadata": {
        "colab": {
          "base_uri": "https://localhost:8080/",
          "height": 450
        },
        "id": "FruCMIBNR3Mb",
        "outputId": "5bf183b5-1b3a-4e1c-8969-d2031095145c"
      },
      "source": [
        "prob = df['Page_New'].value_counts(normalize=True)\n",
        "threshold = 0.01\n",
        "mask = prob > threshold\n",
        "tail_prob = prob.loc[~mask].sum()\n",
        "prob = prob.loc[mask]\n",
        "prob['other'] = tail_prob\n",
        "prob.plot(kind='bar')"
      ],
      "execution_count": null,
      "outputs": [
        {
          "output_type": "execute_result",
          "data": {
            "text/plain": [
              "<matplotlib.axes._subplots.AxesSubplot at 0x7f6f7423ada0>"
            ]
          },
          "metadata": {
            "tags": []
          },
          "execution_count": 8
        },
        {
          "output_type": "display_data",
          "data": {
            "image/png": "[encoded data removed]",
            "text/plain": [
              "<Figure size 432x288 with 1 Axes>"
            ]
          },
          "metadata": {
            "tags": [],
            "needs_background": "light"
          }
        }
      ]
    },
    {
      "cell_type": "code",
      "metadata": {
        "colab": {
          "base_uri": "https://localhost:8080/",
          "height": 353
        },
        "id": "q7wnI7twdTTa",
        "outputId": "d0e759aa-f271-4944-8806-55a5f0ac0205"
      },
      "source": [
        "import seaborn as sns\n",
        "prob = df['Page_New'].value_counts(normalize=True)\n",
        "sns.distplot(prob, hist=True, kde=True)"
      ],
      "execution_count": null,
      "outputs": [
        {
          "output_type": "stream",
          "text": [
            "/usr/local/lib/python3.6/dist-packages/seaborn/distributions.py:2551: FutureWarning: `distplot` is a deprecated function and will be removed in a future version. Please adapt your code to use either `displot` (a figure-level function with similar flexibility) or `histplot` (an axes-level function for histograms).\n",
            "  warnings.warn(msg, FutureWarning)\n"
          ],
          "name": "stderr"
        },
        {
          "output_type": "execute_result",
          "data": {
            "text/plain": [
              "<matplotlib.axes._subplots.AxesSubplot at 0x7f6f75872da0>"
            ]
          },
          "metadata": {
            "tags": []
          },
          "execution_count": 9
        },
        {
          "output_type": "display_data",
          "data": {
            "image/png": "[encoded data removed]",
            "text/plain": [
              "<Figure size 432x288 with 1 Axes>"
            ]
          },
          "metadata": {
            "tags": [],
            "needs_background": "light"
          }
        }
      ]
    },
    {
      "cell_type": "code",
      "metadata": {
        "colab": {
          "base_uri": "https://localhost:8080/",
          "height": 353
        },
        "id": "49rmQmqbdTap",
        "outputId": "fe0f349d-957d-46d0-a3a0-eae692329800"
      },
      "source": [
        "import seaborn as sns\n",
        "prob = df['Page_New'].value_counts(normalize=False)\n",
        "sns.distplot(prob, hist=False, kde=True)"
      ],
      "execution_count": null,
      "outputs": [
        {
          "output_type": "stream",
          "text": [
            "/usr/local/lib/python3.6/dist-packages/seaborn/distributions.py:2551: FutureWarning: `distplot` is a deprecated function and will be removed in a future version. Please adapt your code to use either `displot` (a figure-level function with similar flexibility) or `kdeplot` (an axes-level function for kernel density plots).\n",
            "  warnings.warn(msg, FutureWarning)\n"
          ],
          "name": "stderr"
        },
        {
          "output_type": "execute_result",
          "data": {
            "text/plain": [
              "<matplotlib.axes._subplots.AxesSubplot at 0x7f6f655cdd30>"
            ]
          },
          "metadata": {
            "tags": []
          },
          "execution_count": 10
        },
        {
          "output_type": "display_data",
          "data": {
            "image/png": "[encoded data removed]",
            "text/plain": [
              "<Figure size 432x288 with 1 Axes>"
            ]
          },
          "metadata": {
            "tags": [],
            "needs_background": "light"
          }
        }
      ]
    },
    {
      "cell_type": "code",
      "metadata": {
        "id": "DvCbBNwTdThm",
        "colab": {
          "base_uri": "https://localhost:8080/"
        },
        "outputId": "be36dd92-69c4-4b1e-e0c2-996e60e65fe4"
      },
      "source": [
        "f_exp_status = df['Status'].value_counts(normalize=True) * 100\n",
        "print(f_exp_status)\n",
        "f_exp_type = df['Type'].value_counts(normalize=True) * 100\n",
        "f_exp_page = df['Page_New'].value_counts(normalize=True) * 100"
      ],
      "execution_count": null,
      "outputs": [
        {
          "output_type": "stream",
          "text": [
            "200    71.758819\n",
            "302    22.154665\n",
            "304     4.167458\n",
            "404     1.589714\n",
            "206     0.329343\n",
            "Name: Status, dtype: float64\n"
          ],
          "name": "stdout"
        }
      ]
    },
    {
      "cell_type": "code",
      "metadata": {
        "id": "FcfbHay3c-Jd"
      },
      "source": [
        ""
      ],
      "execution_count": null,
      "outputs": []
    },
    {
      "cell_type": "markdown",
      "metadata": {
        "id": "m7RUc_qu9hXy"
      },
      "source": [
        "In order to perform $\\chi^2$ Goodness of Fit test, need to ensure frequency of all inputs are at least of 5. (Arbitary Number, can be changed)"
      ]
    },
    {
      "cell_type": "code",
      "metadata": {
        "colab": {
          "base_uri": "https://localhost:8080/"
        },
        "id": "Z3ChgpgTc-Qu",
        "outputId": "4567aea9-de1b-4c0b-8cb9-0696a3ba1db3"
      },
      "source": [
        "counts = df['Page_New'].value_counts()\n",
        "df3 = df[~df['Page_New'].isin(counts[counts < 10].index)]\n",
        "df3['Page_New'].value_counts()"
      ],
      "execution_count": null,
      "outputs": [
        {
          "output_type": "execute_result",
          "data": {
            "text/plain": [
              "/login.php                              3426\n",
              "/home.php                               2653\n",
              "/js/vendor/modernizr-2.8.3.min.js       1417\n",
              "/                                        862\n",
              "/contestproblem.php                      556\n",
              "/css/normalize.css                       408\n",
              "/css/bootstrap.min.css                   404\n",
              "/css/font-awesome.min.css                399\n",
              "/css/style.css                           395\n",
              "/css/main.css                            394\n",
              "/js/vendor/jquery-1.12.0.min.js          387\n",
              "/bootstrap-3.3.7/js/bootstrap.min.js     383\n",
              "/process.php                             317\n",
              "/archive.php                             309\n",
              "/details.php                             297\n",
              "/contest.php                             249\n",
              "/fonts/fontawesome-webfont.woff2         246\n",
              "/contestsubmission.php                   228\n",
              "/robots.txt                              224\n",
              "/img/ruet.png                            213\n",
              "/bootstrap-3.3.7/js/bootstrap.js         191\n",
              "/js/vendor/moment.min.js                 173\n",
              "/allsubmission.php                       170\n",
              "/standings.php                           167\n",
              "/profile.php                             147\n",
              "/sign.php                                136\n",
              "/description.php                         124\n",
              "/compiler.php                             97\n",
              "/compile.php                              96\n",
              "/action.php                               83\n",
              "/pcompile.php                             80\n",
              "/countdown.php                            73\n",
              "/js/chart.min.js                          58\n",
              "/js/jquery.min.js                         56\n",
              "/submit.php                               54\n",
              "/showcode.php                             54\n",
              "/contestsubmit.php                        53\n",
              "/logout.php                               44\n",
              "/fonts/fontawesome-webfont.woff           23\n",
              "/favicon.ico                              19\n",
              "/edit.php                                 14\n",
              "/setproblem.php                           12\n",
              "/editcontestproblem.php                   12\n",
              "Name: Page_New, dtype: int64"
            ]
          },
          "metadata": {
            "tags": []
          },
          "execution_count": 50
        }
      ]
    },
    {
      "cell_type": "code",
      "metadata": {
        "colab": {
          "base_uri": "https://localhost:8080/"
        },
        "id": "LKgQQFQ69yzG",
        "outputId": "9278cb91-4ce5-4a8c-f1cd-336aeb19c96d"
      },
      "source": [
        "f_exp_page = df3['Page_New'].value_counts(normalize=True) * 100\n",
        "print(f_exp_page)"
      ],
      "execution_count": null,
      "outputs": [
        {
          "output_type": "stream",
          "text": [
            "/login.php                              21.817487\n",
            "/home.php                               16.894861\n",
            "/js/vendor/modernizr-2.8.3.min.js        9.023753\n",
            "/                                        5.489397\n",
            "/contestproblem.php                      3.540725\n",
            "/css/normalize.css                       2.598230\n",
            "/css/bootstrap.min.css                   2.572757\n",
            "/css/font-awesome.min.css                2.540916\n",
            "/css/style.css                           2.515443\n",
            "/css/main.css                            2.509075\n",
            "/js/vendor/jquery-1.12.0.min.js          2.464497\n",
            "/bootstrap-3.3.7/js/bootstrap.min.js     2.439024\n",
            "/process.php                             2.018723\n",
            "/archive.php                             1.967777\n",
            "/details.php                             1.891358\n",
            "/contest.php                             1.585684\n",
            "/fonts/fontawesome-webfont.woff2         1.566580\n",
            "/contestsubmission.php                   1.451952\n",
            "/robots.txt                              1.426479\n",
            "/img/ruet.png                            1.356429\n",
            "/bootstrap-3.3.7/js/bootstrap.js         1.216328\n",
            "/js/vendor/moment.min.js                 1.101700\n",
            "/allsubmission.php                       1.082596\n",
            "/standings.php                           1.063491\n",
            "/profile.php                             0.936127\n",
            "/sign.php                                0.866077\n",
            "/description.php                         0.789658\n",
            "/compiler.php                            0.617716\n",
            "/compile.php                             0.611348\n",
            "/action.php                              0.528561\n",
            "/pcompile.php                            0.509457\n",
            "/countdown.php                           0.464879\n",
            "/js/chart.min.js                         0.369356\n",
            "/js/jquery.min.js                        0.356620\n",
            "/submit.php                              0.343883\n",
            "/showcode.php                            0.343883\n",
            "/contestsubmit.php                       0.337515\n",
            "/logout.php                              0.280201\n",
            "/fonts/fontawesome-webfont.woff          0.146469\n",
            "/favicon.ico                             0.120996\n",
            "/edit.php                                0.089155\n",
            "/setproblem.php                          0.076419\n",
            "/editcontestproblem.php                  0.076419\n",
            "Name: Page_New, dtype: float64\n"
          ],
          "name": "stdout"
        }
      ]
    },
    {
      "cell_type": "code",
      "metadata": {
        "id": "cOIs9CE69y3t"
      },
      "source": [
        ""
      ],
      "execution_count": null,
      "outputs": []
    },
    {
      "cell_type": "code",
      "metadata": {
        "id": "Lnv0dCz6c-YM"
      },
      "source": [
        ""
      ],
      "execution_count": null,
      "outputs": []
    },
    {
      "cell_type": "markdown",
      "metadata": {
        "id": "E0-iGSESc-nC"
      },
      "source": [
        "# Modified Data\n",
        "\n",
        "To simulate `f_obs` \n"
      ]
    },
    {
      "cell_type": "code",
      "metadata": {
        "id": "B0bBb9WCzb8J"
      },
      "source": [
        "data2 = pd.read_csv(\"weblog_fake.csv\") \n",
        "df2 = data2\n",
        "df2[['Type','Page','Ignore']] = df2['URL'].str.split(' ', 2, expand=True)"
      ],
      "execution_count": null,
      "outputs": []
    },
    {
      "cell_type": "code",
      "metadata": {
        "colab": {
          "base_uri": "https://localhost:8080/"
        },
        "id": "05985scCzcFW",
        "outputId": "a70a2259-3352-4099-f310-f2841341d688"
      },
      "source": [
        "f_obs_status = df2['Status'].value_counts(normalize=True) * 100\n",
        "print(f_obs_status)"
      ],
      "execution_count": null,
      "outputs": [
        {
          "output_type": "stream",
          "text": [
            "200    68.488978\n",
            "302    28.065118\n",
            "304     2.407547\n",
            "404     0.822169\n",
            "206     0.216188\n",
            "Name: Status, dtype: float64\n"
          ],
          "name": "stdout"
        }
      ]
    },
    {
      "cell_type": "code",
      "metadata": {
        "colab": {
          "base_uri": "https://localhost:8080/"
        },
        "id": "DxJTx1NR0U8m",
        "outputId": "8bf2c746-9339-4b85-b78b-daec34609fc4"
      },
      "source": [
        "f_obs_type = df2['Type'].value_counts(normalize=True) * 100\n",
        "print(f_obs_type)"
      ],
      "execution_count": null,
      "outputs": [
        {
          "output_type": "stream",
          "text": [
            "GET     92.652887\n",
            "POST     7.317632\n",
            "HEAD     0.029480\n",
            "Name: Type, dtype: float64\n"
          ],
          "name": "stdout"
        }
      ]
    },
    {
      "cell_type": "code",
      "metadata": {
        "colab": {
          "base_uri": "https://localhost:8080/"
        },
        "id": "BB79SI4pzcM0",
        "outputId": "dc6fe162-2940-4478-ae81-8b53f81573c6"
      },
      "source": [
        "df2['Page_New'] = df2['Page'].str.split('?').str[0]\n",
        "f_obs_page = df2['Page_New'].value_counts(normalize=True) * 100\n",
        "print(f_obs_page)"
      ],
      "execution_count": null,
      "outputs": [
        {
          "output_type": "stream",
          "text": [
            "/login.php                                  24.540601\n",
            "/home.php                                   15.840676\n",
            "/                                            5.260572\n",
            "/process.php                                 5.109896\n",
            "/js/vendor/modernizr-2.8.3.min.js            4.985424\n",
            "                                              ...    \n",
            "/editcontest.php                             0.009827\n",
            "/fonts/glyphicons-halflings-regular.woff     0.006551\n",
            "//home.php                                   0.006551\n",
            "/adminpanel.php                              0.003276\n",
            "/css/bootstrap.min.css.map                   0.003276\n",
            "Name: Page_New, Length: 62, dtype: float64\n"
          ],
          "name": "stdout"
        }
      ]
    },
    {
      "cell_type": "markdown",
      "metadata": {
        "id": "W3jONBy25CZ_"
      },
      "source": [
        "In order to perform $\\chi^2$ Goodness of Fit test, need to ensure frequency of all inputs are at least of 5. (Arbitary Number, can be changed)"
      ]
    },
    {
      "cell_type": "code",
      "metadata": {
        "colab": {
          "base_uri": "https://localhost:8080/"
        },
        "id": "m3xfjkPb5X4p",
        "outputId": "e1fd70b4-acf2-4ad8-9ec3-e7e3fb1d35be"
      },
      "source": [
        "df2['Type'].value_counts()"
      ],
      "execution_count": null,
      "outputs": [
        {
          "output_type": "execute_result",
          "data": {
            "text/plain": [
              "GET     28286\n",
              "POST     2234\n",
              "HEAD        9\n",
              "Name: Type, dtype: int64"
            ]
          },
          "metadata": {
            "tags": []
          },
          "execution_count": 32
        }
      ]
    },
    {
      "cell_type": "code",
      "metadata": {
        "id": "cSwPN4kozciI",
        "colab": {
          "base_uri": "https://localhost:8080/"
        },
        "outputId": "ff9f83f9-0afd-4819-d36c-97d8b27b581e"
      },
      "source": [
        "df2['Page_New'].value_counts()"
      ],
      "execution_count": null,
      "outputs": [
        {
          "output_type": "stream",
          "text": [
            "/login.php                                  7492\n",
            "/home.php                                   4836\n",
            "/                                           1606\n",
            "/process.php                                1560\n",
            "/js/vendor/modernizr-2.8.3.min.js           1522\n",
            "                                            ... \n",
            "/editcontest.php                               3\n",
            "/fonts/glyphicons-halflings-regular.woff       2\n",
            "//home.php                                     2\n",
            "/adminpanel.php                                1\n",
            "/css/bootstrap.min.css.map                     1\n",
            "Name: Page_New, Length: 62, dtype: int64\n"
          ],
          "name": "stdout"
        }
      ]
    },
    {
      "cell_type": "code",
      "metadata": {
        "id": "q30X6QihR3UW",
        "colab": {
          "base_uri": "https://localhost:8080/"
        },
        "outputId": "b73b9614-76fd-45a4-ab4f-6a09bd8c6a9f"
      },
      "source": [
        "counts = df2['Page_New'].value_counts()\n",
        "df4 = df2[~df2['Page_New'].isin(counts[counts < 10].index)]\n",
        "df4['Page_New'].value_counts()"
      ],
      "execution_count": null,
      "outputs": [
        {
          "output_type": "execute_result",
          "data": {
            "text/plain": [
              "/login.php                              7492\n",
              "/home.php                               4836\n",
              "/                                       1606\n",
              "/process.php                            1560\n",
              "/js/vendor/modernizr-2.8.3.min.js       1522\n",
              "/logout.php                             1498\n",
              "/contestproblem.php                     1152\n",
              "/css/bootstrap.min.css                   523\n",
              "/bootstrap-3.3.7/js/bootstrap.js         521\n",
              "/css/normalize.css                       513\n",
              "/css/font-awesome.min.css                511\n",
              "/css/style.css                           507\n",
              "/js/vendor/jquery-1.12.0.min.js          506\n",
              "/js/vendor/moment.min.js                 503\n",
              "/img/ruet.png                            501\n",
              "/css/main.css                            499\n",
              "/bootstrap-3.3.7/js/bootstrap.min.js     488\n",
              "/profile.php                             463\n",
              "/sign.php                                445\n",
              "/contest.php                             424\n",
              "/archive.php                             386\n",
              "/action.php                              378\n",
              "/js/chart.min.js                         353\n",
              "/details.php                             353\n",
              "/js/jquery.min.js                        351\n",
              "/fonts/fontawesome-webfont.woff2         337\n",
              "/edit.php                                309\n",
              "/countdown.php                           269\n",
              "/contestsubmission.php                   249\n",
              "/robots.txt                              224\n",
              "/allsubmission.php                       212\n",
              "/description.php                         173\n",
              "/standings.php                           167\n",
              "/compiler.php                            153\n",
              "/compile.php                              96\n",
              "/pcompile.php                             87\n",
              "/showcode.php                             75\n",
              "/submit.php                               75\n",
              "/contestsubmit.php                        53\n",
              "/fonts/fontawesome-webfont.woff           23\n",
              "/favicon.ico                              19\n",
              "/index.php                                13\n",
              "/setproblem.php                           12\n",
              "/editcontestproblem.php                   12\n",
              "Name: Page_New, dtype: int64"
            ]
          },
          "metadata": {
            "tags": []
          },
          "execution_count": 52
        }
      ]
    },
    {
      "cell_type": "code",
      "metadata": {
        "colab": {
          "base_uri": "https://localhost:8080/"
        },
        "id": "5Phtt_j36-Ts",
        "outputId": "3d517bf9-4468-4894-91e6-270b350fff0a"
      },
      "source": [
        "f_obs_page = df4['Page_New'].value_counts(normalize=True) * 100\n",
        "print(f_obs_page)"
      ],
      "execution_count": null,
      "outputs": [
        {
          "output_type": "stream",
          "text": [
            "/login.php                              24.605077\n",
            "/home.php                               15.882295\n",
            "/                                        5.274393\n",
            "/process.php                             5.123321\n",
            "/js/vendor/modernizr-2.8.3.min.js        4.998522\n",
            "/logout.php                              4.919702\n",
            "/contestproblem.php                      3.783375\n",
            "/css/bootstrap.min.css                   1.717626\n",
            "/bootstrap-3.3.7/js/bootstrap.js         1.711058\n",
            "/css/normalize.css                       1.684784\n",
            "/css/font-awesome.min.css                1.678216\n",
            "/css/style.css                           1.665079\n",
            "/js/vendor/jquery-1.12.0.min.js          1.661795\n",
            "/js/vendor/moment.min.js                 1.651943\n",
            "/img/ruet.png                            1.645374\n",
            "/css/main.css                            1.638806\n",
            "/bootstrap-3.3.7/js/bootstrap.min.js     1.602680\n",
            "/profile.php                             1.520575\n",
            "/sign.php                                1.461460\n",
            "/contest.php                             1.392492\n",
            "/archive.php                             1.267694\n",
            "/action.php                              1.241420\n",
            "/js/chart.min.js                         1.159316\n",
            "/details.php                             1.159316\n",
            "/js/jquery.min.js                        1.152747\n",
            "/fonts/fontawesome-webfont.woff2         1.106769\n",
            "/edit.php                                1.014812\n",
            "/countdown.php                           0.883444\n",
            "/contestsubmission.php                   0.817761\n",
            "/robots.txt                              0.735656\n",
            "/allsubmission.php                       0.696246\n",
            "/description.php                         0.568163\n",
            "/standings.php                           0.548458\n",
            "/compiler.php                            0.502480\n",
            "/compile.php                             0.315281\n",
            "/pcompile.php                            0.285724\n",
            "/showcode.php                            0.246314\n",
            "/submit.php                              0.246314\n",
            "/contestsubmit.php                       0.174062\n",
            "/fonts/fontawesome-webfont.woff          0.075536\n",
            "/favicon.ico                             0.062399\n",
            "/index.php                               0.042694\n",
            "/setproblem.php                          0.039410\n",
            "/editcontestproblem.php                  0.039410\n",
            "Name: Page_New, dtype: float64\n"
          ],
          "name": "stdout"
        }
      ]
    },
    {
      "cell_type": "code",
      "metadata": {
        "id": "1Fi377ZadDeY"
      },
      "source": [
        ""
      ],
      "execution_count": null,
      "outputs": []
    },
    {
      "cell_type": "markdown",
      "metadata": {
        "id": "-jZ_orcczxUT"
      },
      "source": [
        "# $\\chi^2$ test on `f_obs` & `f_exp`"
      ]
    },
    {
      "cell_type": "code",
      "metadata": {
        "colab": {
          "base_uri": "https://localhost:8080/"
        },
        "id": "ISe6OsFbdDkz",
        "outputId": "e45b2382-1841-480c-fe5c-48e5baf4aa69"
      },
      "source": [
        "from scipy.stats import chisquare\n",
        "chisquare(f_obs_status, f_exp=f_exp_status)"
      ],
      "execution_count": null,
      "outputs": [
        {
          "output_type": "execute_result",
          "data": {
            "text/plain": [
              "Power_divergenceResult(statistic=2.8784683554369432, pvalue=0.5783650419060467)"
            ]
          },
          "metadata": {
            "tags": []
          },
          "execution_count": 27
        }
      ]
    },
    {
      "cell_type": "code",
      "metadata": {
        "colab": {
          "base_uri": "https://localhost:8080/"
        },
        "id": "_81jWy2910gl",
        "outputId": "e886294b-361d-453c-c962-e3b63e0eb6ff"
      },
      "source": [
        "chisquare(f_obs_status, f_exp=f_exp_status, ddof=4)"
      ],
      "execution_count": null,
      "outputs": [
        {
          "output_type": "execute_result",
          "data": {
            "text/plain": [
              "Power_divergenceResult(statistic=2.8784683554369432, pvalue=nan)"
            ]
          },
          "metadata": {
            "tags": []
          },
          "execution_count": 25
        }
      ]
    },
    {
      "cell_type": "code",
      "metadata": {
        "colab": {
          "base_uri": "https://localhost:8080/"
        },
        "id": "4Y_0nF2udDnx",
        "outputId": "879a749d-1fff-401d-b31c-e534b7e25c23"
      },
      "source": [
        "chisquare(f_obs_type, f_exp=f_exp_type)"
      ],
      "execution_count": null,
      "outputs": [
        {
          "output_type": "execute_result",
          "data": {
            "text/plain": [
              "Power_divergenceResult(statistic=2.18662478513726, pvalue=0.3351046551310318)"
            ]
          },
          "metadata": {
            "tags": []
          },
          "execution_count": 23
        }
      ]
    },
    {
      "cell_type": "markdown",
      "metadata": {
        "id": "cWaLak4f-Kdh"
      },
      "source": [
        "## Original $\\chi^2$ test on pages without removing freq less than 10"
      ]
    },
    {
      "cell_type": "code",
      "metadata": {
        "colab": {
          "base_uri": "https://localhost:8080/"
        },
        "id": "7ZMS3THO05HM",
        "outputId": "b2a8d265-756c-40c7-eb02-fab07400a36c"
      },
      "source": [
        "chisquare(f_obs_page, f_exp=f_exp_page)"
      ],
      "execution_count": null,
      "outputs": [
        {
          "output_type": "execute_result",
          "data": {
            "text/plain": [
              "Power_divergenceResult(statistic=7.62429287251104, pvalue=1.0)"
            ]
          },
          "metadata": {
            "tags": []
          },
          "execution_count": 24
        }
      ]
    },
    {
      "cell_type": "markdown",
      "metadata": {
        "id": "q5mbdCnU-ZMj"
      },
      "source": [
        "## Updated $\\chi^2$ test on pages after removing freq less than 10"
      ]
    },
    {
      "cell_type": "code",
      "metadata": {
        "id": "ZEZrpT19-oxW"
      },
      "source": [
        "# Because f_obs_page is found to be one length longer than f_exp_page...\n",
        "f_obs_page.drop(f_obs_page.tail(1).index,inplace=True) "
      ],
      "execution_count": null,
      "outputs": []
    },
    {
      "cell_type": "code",
      "metadata": {
        "colab": {
          "base_uri": "https://localhost:8080/"
        },
        "id": "YXId_a903VXU",
        "outputId": "d3ab1525-4b50-428f-e110-3c1c5ddc5bec"
      },
      "source": [
        "chisquare(f_obs_page, f_exp=f_exp_page)"
      ],
      "execution_count": null,
      "outputs": [
        {
          "output_type": "execute_result",
          "data": {
            "text/plain": [
              "Power_divergenceResult(statistic=7.510198308575736, pvalue=0.9999999993567241)"
            ]
          },
          "metadata": {
            "tags": []
          },
          "execution_count": 58
        }
      ]
    },
    {
      "cell_type": "code",
      "metadata": {
        "id": "ooLk6Dkf05J8"
      },
      "source": [
        ""
      ],
      "execution_count": null,
      "outputs": []
    },
    {
      "cell_type": "code",
      "metadata": {
        "id": "_liQmFhd05MX"
      },
      "source": [
        ""
      ],
      "execution_count": null,
      "outputs": []
    },
    {
      "cell_type": "markdown",
      "metadata": {
        "id": "5YyekiXnR3hv"
      },
      "source": [
        "# Parsing of the other web server logs "
      ]
    },
    {
      "cell_type": "code",
      "metadata": {
        "colab": {
          "base_uri": "https://localhost:8080/"
        },
        "id": "OR_XWbIdFljr",
        "outputId": "41d64ff4-10f0-4e99-e6c9-54460ba5cdb5"
      },
      "source": [
        "!pip install apache-log-parser"
      ],
      "execution_count": null,
      "outputs": [
        {
          "output_type": "stream",
          "text": [
            "Collecting apache-log-parser\n",
            "  Downloading https://files.pythonhosted.org/packages/b9/23/510b3e0fa78e69af4c3c270705c17b58e8a0d3a3515b5fcf70c189318e85/apache-log-parser-1.7.0.tar.gz\n",
            "Collecting user-agents\n",
            "  Downloading https://files.pythonhosted.org/packages/8f/1c/20bb3d7b2bad56d881e3704131ddedbb16eb787101306887dff349064662/user_agents-2.2.0-py3-none-any.whl\n",
            "Requirement already satisfied: six in /usr/local/lib/python3.6/dist-packages (from apache-log-parser) (1.15.0)\n",
            "Collecting ua-parser>=0.10.0\n",
            "  Downloading https://files.pythonhosted.org/packages/9d/22/4d16b08db329fd440eed366d35e4dd7195c9babb4ecac5218f28081522a2/ua_parser-0.10.0-py2.py3-none-any.whl\n",
            "Building wheels for collected packages: apache-log-parser\n",
            "  Building wheel for apache-log-parser (setup.py) ... \u001b[?25l\u001b[?25hdone\n",
            "  Created wheel for apache-log-parser: filename=apache_log_parser-1.7.0-cp36-none-any.whl size=8861 sha256=d2f67c1d2fe49ef98bfe20506f04852154372ca84abf31f4b521cfe2ac193d0c\n",
            "  Stored in directory: /root/.cache/pip/wheels/c1/05/73/0987fbe153fbd0593f80ec73f1701dcc30f09470c9c8e4023d\n",
            "Successfully built apache-log-parser\n",
            "Installing collected packages: ua-parser, user-agents, apache-log-parser\n",
            "Successfully installed apache-log-parser-1.7.0 ua-parser-0.10.0 user-agents-2.2.0\n"
          ],
          "name": "stdout"
        }
      ]
    },
    {
      "cell_type": "code",
      "metadata": {
        "colab": {
          "base_uri": "https://localhost:8080/"
        },
        "id": "-N5iDxn8FoRy",
        "outputId": "f0fcef10-4c04-431b-dae7-5c5df15fdd71"
      },
      "source": [
        "import apache_log_parser\n",
        "#line_parser = apache_log_parser.make_parser(\"%h <<%P>> %t %Dus \\\"%r\\\" %>s %b  \\\"%{Referer}i\\\" \\\"%{User-Agent}i\\\" %l %u\")\n",
        "#log_line_data = line_parser('127.0.0.1 <<6113>> [16/Aug/2013:15:45:34 +0000] 1966093us \"GET / HTTP/1.1\" 200 3478  \"https://example.com/\" \"Mozilla/5.0 (X11; U; Linux x86_64; en-US; rv:1.9.2.18)\" - -')\n",
        "\n",
        "line_parser = apache_log_parser.make_parser(\"%h %l %u %t \\\"%r\\\" %>s %b \\\"%{Referer}i\\\" \\\"%{User-agent}i\\\"\")\n",
        "log_line_data = line_parser('83.149.9.216 - - [17/May/2015:10:05:03 +0000] \"GET /presentations/logstash-monitorama-2013/images/kibana-search.png HTTP/1.1\" 200 203023 \"http://semicomplete.com/presentations/logstash-monitorama-2013/\" \"Mozilla/5.0 (Macintosh; Intel Mac OS X 10_9_1) AppleWebKit/537.36 (KHTML, like Gecko) Chrome/32.0.1700.77 Safari/537.36\"')\n",
        "\n",
        "from pprint import pprint\n",
        "pprint(log_line_data)\n"
      ],
      "execution_count": null,
      "outputs": [
        {
          "output_type": "stream",
          "text": [
            "{'remote_host': '83.149.9.216',\n",
            " 'remote_logname': '-',\n",
            " 'remote_user': '-',\n",
            " 'request_first_line': 'GET '\n",
            "                       '/presentations/logstash-monitorama-2013/images/kibana-search.png '\n",
            "                       'HTTP/1.1',\n",
            " 'request_header_referer': 'http://semicomplete.com/presentations/logstash-monitorama-2013/',\n",
            " 'request_header_user_agent': 'Mozilla/5.0 (Macintosh; Intel Mac OS X 10_9_1) '\n",
            "                              'AppleWebKit/537.36 (KHTML, like Gecko) '\n",
            "                              'Chrome/32.0.1700.77 Safari/537.36',\n",
            " 'request_http_ver': '1.1',\n",
            " 'request_method': 'GET',\n",
            " 'request_url': '/presentations/logstash-monitorama-2013/images/kibana-search.png',\n",
            " 'request_url_fragment': '',\n",
            " 'request_url_hostname': None,\n",
            " 'request_url_netloc': '',\n",
            " 'request_url_password': None,\n",
            " 'request_url_path': '/presentations/logstash-monitorama-2013/images/kibana-search.png',\n",
            " 'request_url_port': None,\n",
            " 'request_url_query': '',\n",
            " 'request_url_query_dict': {},\n",
            " 'request_url_query_list': [],\n",
            " 'request_url_query_simple_dict': {},\n",
            " 'request_url_scheme': '',\n",
            " 'request_url_username': None,\n",
            " 'response_bytes_clf': '203023',\n",
            " 'status': '200',\n",
            " 'time_received': '[17/May/2015:10:05:03 +0000]',\n",
            " 'time_received_datetimeobj': datetime.datetime(2015, 5, 17, 10, 5, 3),\n",
            " 'time_received_isoformat': '2015-05-17T10:05:03',\n",
            " 'time_received_tz_datetimeobj': datetime.datetime(2015, 5, 17, 10, 5, 3, tzinfo='0000'),\n",
            " 'time_received_tz_isoformat': '2015-05-17T10:05:03+00:00',\n",
            " 'time_received_utc_datetimeobj': datetime.datetime(2015, 5, 17, 10, 5, 3, tzinfo='0000'),\n",
            " 'time_received_utc_isoformat': '2015-05-17T10:05:03+00:00'}\n"
          ],
          "name": "stdout"
        }
      ]
    }
  ]
}