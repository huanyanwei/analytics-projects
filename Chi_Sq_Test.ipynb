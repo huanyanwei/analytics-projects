{
  "nbformat": 4,
  "nbformat_minor": 0,
  "metadata": {
    "colab": {
      "name": "Chi Sq Test",
      "provenance": [],
      "collapsed_sections": [],
      "toc_visible": true,
      "authorship_tag": "ABX9TyM0nPEphNDtIQOVrL/vGTCN",
      "include_colab_link": true
    },
    "kernelspec": {
      "name": "python3",
      "display_name": "Python 3"
    }
  },
  "cells": [
    {
      "cell_type": "markdown",
      "metadata": {
        "id": "view-in-github",
        "colab_type": "text"
      },
      "source": [
        "<a href=\"https://colab.research.google.com/github/huanyanwei/analytics-projects/blob/main/Chi_Sq_Test.ipynb\" target=\"_parent\"><img src=\"https://colab.research.google.com/assets/colab-badge.svg\" alt=\"Open In Colab\"/></a>"
      ]
    },
    {
      "cell_type": "markdown",
      "metadata": {
        "id": "tCiGOcaQCWgX"
      },
      "source": [
        "# Aim: To detect deviations in Web Server Access logs via $\\chi^2$. \n",
        "\n",
        "Detection Fields: To test on HTTP Type, HTTP Reply Status Number & Page Surfed"
      ]
    },
    {
      "cell_type": "markdown",
      "metadata": {
        "id": "yLX-CwwyDJSb"
      },
      "source": [
        "## Preparation of Actual Data"
      ]
    },
    {
      "cell_type": "code",
      "metadata": {
        "colab": {
          "base_uri": "https://localhost:8080/",
          "height": 197
        },
        "id": "GAyhh25rCQ89",
        "outputId": "6460a63d-1e50-4b57-bc1f-2e7992351336"
      },
      "source": [
        "import pandas as pd \n",
        "\n",
        "df = pd.read_csv(\"weblog_2.csv\") \n",
        "df[['Type','Page','Ignore']] = df['URL'].str.split(' ', 2, expand=True)\n",
        "df[['Page','Status','Type']].head()"
      ],
      "execution_count": null,
      "outputs": [
        {
          "output_type": "execute_result",
          "data": {
            "text/html": [
              "<div>\n",
              "<style scoped>\n",
              "    .dataframe tbody tr th:only-of-type {\n",
              "        vertical-align: middle;\n",
              "    }\n",
              "\n",
              "    .dataframe tbody tr th {\n",
              "        vertical-align: top;\n",
              "    }\n",
              "\n",
              "    .dataframe thead th {\n",
              "        text-align: right;\n",
              "    }\n",
              "</style>\n",
              "<table border=\"1\" class=\"dataframe\">\n",
              "  <thead>\n",
              "    <tr style=\"text-align: right;\">\n",
              "      <th></th>\n",
              "      <th>Page</th>\n",
              "      <th>Status</th>\n",
              "      <th>Type</th>\n",
              "    </tr>\n",
              "  </thead>\n",
              "  <tbody>\n",
              "    <tr>\n",
              "      <th>0</th>\n",
              "      <td>/login.php</td>\n",
              "      <td>200</td>\n",
              "      <td>GET</td>\n",
              "    </tr>\n",
              "    <tr>\n",
              "      <th>1</th>\n",
              "      <td>/process.php</td>\n",
              "      <td>302</td>\n",
              "      <td>POST</td>\n",
              "    </tr>\n",
              "    <tr>\n",
              "      <th>2</th>\n",
              "      <td>/home.php</td>\n",
              "      <td>200</td>\n",
              "      <td>GET</td>\n",
              "    </tr>\n",
              "    <tr>\n",
              "      <th>3</th>\n",
              "      <td>/js/vendor/moment.min.js</td>\n",
              "      <td>200</td>\n",
              "      <td>GET</td>\n",
              "    </tr>\n",
              "    <tr>\n",
              "      <th>4</th>\n",
              "      <td>/bootstrap-3.3.7/js/bootstrap.js</td>\n",
              "      <td>200</td>\n",
              "      <td>GET</td>\n",
              "    </tr>\n",
              "  </tbody>\n",
              "</table>\n",
              "</div>"
            ],
            "text/plain": [
              "                               Page  Status  Type\n",
              "0                        /login.php     200   GET\n",
              "1                      /process.php     302  POST\n",
              "2                         /home.php     200   GET\n",
              "3          /js/vendor/moment.min.js     200   GET\n",
              "4  /bootstrap-3.3.7/js/bootstrap.js     200   GET"
            ]
          },
          "metadata": {
            "tags": []
          },
          "execution_count": 5
        }
      ]
    },
    {
      "cell_type": "markdown",
      "metadata": {
        "id": "CZcl2il2DluV"
      },
      "source": [
        "Calculate % of HTTP Type and Status. \n",
        "Save the values as expected value for $\\chi^2$ calculation later"
      ]
    },
    {
      "cell_type": "code",
      "metadata": {
        "colab": {
          "base_uri": "https://localhost:8080/"
        },
        "id": "cluC-sAKCWRz",
        "outputId": "d1b6c19c-1bfd-43ac-dbaa-466b97725914"
      },
      "source": [
        "f_exp_status = df['Status'].value_counts(normalize=True) * 100\n",
        "print(f_exp_status)"
      ],
      "execution_count": null,
      "outputs": [
        {
          "output_type": "stream",
          "text": [
            "200    71.758819\n",
            "302    22.154665\n",
            "304     4.167458\n",
            "404     1.589714\n",
            "206     0.329343\n",
            "Name: Status, dtype: float64\n"
          ],
          "name": "stdout"
        }
      ]
    },
    {
      "cell_type": "code",
      "metadata": {
        "colab": {
          "base_uri": "https://localhost:8080/"
        },
        "id": "BhPQFYQCD94e",
        "outputId": "e5a3059e-837f-42af-e034-0bf286ec63e7"
      },
      "source": [
        "f_exp_type = df['Type'].value_counts(normalize=True) * 100\n",
        "print(f_exp_type)"
      ],
      "execution_count": null,
      "outputs": [
        {
          "output_type": "stream",
          "text": [
            "GET     95.623535\n",
            "POST     4.319463\n",
            "HEAD     0.057002\n",
            "Name: Type, dtype: float64\n"
          ],
          "name": "stdout"
        }
      ]
    },
    {
      "cell_type": "markdown",
      "metadata": {
        "id": "s4nt4oTGEIGd"
      },
      "source": [
        "Noticed that the under `Page`, there are mant pages of the same, but string differ because of query, e.g. `/details.php?name=Magic%20Square&cod=13`. \n",
        "\n",
        "Hence, will remove all info from `?` onwards since the focus is on the number of times the page is surfed. "
      ]
    },
    {
      "cell_type": "code",
      "metadata": {
        "id": "4-ZvrAcRECgx"
      },
      "source": [
        "df['Page_New'] = df['Page'].str.split('?').str[0]"
      ],
      "execution_count": null,
      "outputs": []
    },
    {
      "cell_type": "markdown",
      "metadata": {
        "id": "43xtFX5TE64c"
      },
      "source": [
        "Noticed that under `Page`, there are pages that are only accessed less than X number of times. \n",
        "\n",
        "In order to perform $\\chi^2$ Goodness of Fit test, need to ensure frequency of all inputs are at least of 10. (Arbitary Number, can be changed). Usually the number is 5 (?), according to YouTube. "
      ]
    },
    {
      "cell_type": "code",
      "metadata": {
        "colab": {
          "base_uri": "https://localhost:8080/"
        },
        "id": "D61SYBeJE1Xh",
        "outputId": "ebf7f789-b5cf-4dff-b657-f7b4dde85f14"
      },
      "source": [
        "counts = df['Page_New'].value_counts()\n",
        "df = df[~df['Page_New'].isin(counts[counts < 10].index)]\n",
        "df['Page_New'].value_counts().tail()"
      ],
      "execution_count": null,
      "outputs": [
        {
          "output_type": "execute_result",
          "data": {
            "text/plain": [
              "/fonts/fontawesome-webfont.woff    23\n",
              "/favicon.ico                       19\n",
              "/edit.php                          14\n",
              "/setproblem.php                    12\n",
              "/editcontestproblem.php            12\n",
              "Name: Page_New, dtype: int64"
            ]
          },
          "metadata": {
            "tags": []
          },
          "execution_count": 11
        }
      ]
    },
    {
      "cell_type": "markdown",
      "metadata": {
        "id": "sCtsbWnnFuqH"
      },
      "source": [
        "From above, see that now all pages are surfed at least more than 10 times. "
      ]
    },
    {
      "cell_type": "code",
      "metadata": {
        "colab": {
          "base_uri": "https://localhost:8080/"
        },
        "id": "RgJqdxpiFWWP",
        "outputId": "684d364a-c505-430b-dfc4-02cead5a634a"
      },
      "source": [
        "f_exp_page = df['Page_New'].value_counts(normalize=True) * 100\n",
        "print(f_exp_page.head())"
      ],
      "execution_count": null,
      "outputs": [
        {
          "output_type": "stream",
          "text": [
            "/login.php                           21.817487\n",
            "/home.php                            16.894861\n",
            "/js/vendor/modernizr-2.8.3.min.js     9.023753\n",
            "/                                     5.489397\n",
            "/contestproblem.php                   3.540725\n",
            "Name: Page_New, dtype: float64\n"
          ],
          "name": "stdout"
        }
      ]
    },
    {
      "cell_type": "markdown",
      "metadata": {
        "id": "lve67VIrF5y4"
      },
      "source": [
        "Values for `f_exp_status`, `f_exp_type` and `f_exp_page` are found and stored.\n",
        "\n",
        "Now repeat the calculation for Modified Data. "
      ]
    },
    {
      "cell_type": "markdown",
      "metadata": {
        "id": "L4NwPIeIGL0N"
      },
      "source": [
        "# Modified Data\n",
        "\n",
        "To simulate `f_obs` "
      ]
    },
    {
      "cell_type": "code",
      "metadata": {
        "id": "T2r6D8U6Fc1H"
      },
      "source": [
        "df2 = pd.read_csv(\"weblog_fake.csv\") \n",
        "df2[['Type','Page','Ignore']] = df2['URL'].str.split(' ', 2, expand=True)"
      ],
      "execution_count": null,
      "outputs": []
    },
    {
      "cell_type": "code",
      "metadata": {
        "colab": {
          "base_uri": "https://localhost:8080/"
        },
        "id": "IX1belnEGX6B",
        "outputId": "ac51da45-d763-4792-db93-2b611779ac7b"
      },
      "source": [
        "f_obs_status = df2['Status'].value_counts(normalize=True) * 100\n",
        "print(f_obs_status)"
      ],
      "execution_count": null,
      "outputs": [
        {
          "output_type": "stream",
          "text": [
            "200    68.488978\n",
            "302    28.065118\n",
            "304     2.407547\n",
            "404     0.822169\n",
            "206     0.216188\n",
            "Name: Status, dtype: float64\n"
          ],
          "name": "stdout"
        }
      ]
    },
    {
      "cell_type": "code",
      "metadata": {
        "colab": {
          "base_uri": "https://localhost:8080/"
        },
        "id": "cRJIThodGYhM",
        "outputId": "14833d22-2125-41cd-a372-4bd0f054eb15"
      },
      "source": [
        "f_obs_type = df2['Type'].value_counts(normalize=True) * 100\n",
        "print(f_obs_type)"
      ],
      "execution_count": null,
      "outputs": [
        {
          "output_type": "stream",
          "text": [
            "GET     92.652887\n",
            "POST     7.317632\n",
            "HEAD     0.029480\n",
            "Name: Type, dtype: float64\n"
          ],
          "name": "stdout"
        }
      ]
    },
    {
      "cell_type": "code",
      "metadata": {
        "colab": {
          "base_uri": "https://localhost:8080/"
        },
        "id": "6wUkZQUBGaLc",
        "outputId": "bfd67e51-e8ca-4cdc-ec67-8d40e86a38f2"
      },
      "source": [
        "df2['Page_New'] = df2['Page'].str.split('?').str[0]\n",
        "counts = df2['Page_New'].value_counts()\n",
        "df2 = df2[~df2['Page_New'].isin(counts[counts < 10].index)]\n",
        "df2['Page_New'].value_counts().tail()"
      ],
      "execution_count": null,
      "outputs": [
        {
          "output_type": "execute_result",
          "data": {
            "text/plain": [
              "/fonts/fontawesome-webfont.woff    23\n",
              "/favicon.ico                       19\n",
              "/index.php                         13\n",
              "/editcontestproblem.php            12\n",
              "/setproblem.php                    12\n",
              "Name: Page_New, dtype: int64"
            ]
          },
          "metadata": {
            "tags": []
          },
          "execution_count": 16
        }
      ]
    },
    {
      "cell_type": "code",
      "metadata": {
        "colab": {
          "base_uri": "https://localhost:8080/"
        },
        "id": "YkRltsi-Gnl0",
        "outputId": "88f14ad2-b6f1-4de2-a959-448a0eda58dd"
      },
      "source": [
        "f_obs_page = df2['Page_New'].value_counts(normalize=True) * 100\n",
        "print(f_obs_page.head())"
      ],
      "execution_count": null,
      "outputs": [
        {
          "output_type": "stream",
          "text": [
            "/login.php                           24.605077\n",
            "/home.php                            15.882295\n",
            "/                                     5.274393\n",
            "/process.php                          5.123321\n",
            "/js/vendor/modernizr-2.8.3.min.js     4.998522\n",
            "Name: Page_New, dtype: float64\n"
          ],
          "name": "stdout"
        }
      ]
    },
    {
      "cell_type": "markdown",
      "metadata": {
        "id": "VyFuLmXvGygx"
      },
      "source": [
        "Data representing expected values `f_exp` & observed values `f_obs` are ready. "
      ]
    },
    {
      "cell_type": "markdown",
      "metadata": {
        "id": "EU0bAluUG_Is"
      },
      "source": [
        "# Results: $\\chi^2$ test on `f_obs` & `f_exp`"
      ]
    },
    {
      "cell_type": "code",
      "metadata": {
        "colab": {
          "base_uri": "https://localhost:8080/"
        },
        "id": "C-tvvss2Gua6",
        "outputId": "78af6855-6204-4260-a564-4dde85a9f5a0"
      },
      "source": [
        "from scipy.stats import chisquare\n",
        "chisquare(f_obs_status, f_exp=f_exp_status)"
      ],
      "execution_count": null,
      "outputs": [
        {
          "output_type": "execute_result",
          "data": {
            "text/plain": [
              "Power_divergenceResult(statistic=2.8784683554369432, pvalue=0.5783650419060467)"
            ]
          },
          "metadata": {
            "tags": []
          },
          "execution_count": 18
        }
      ]
    },
    {
      "cell_type": "code",
      "metadata": {
        "colab": {
          "base_uri": "https://localhost:8080/"
        },
        "id": "PWPMpa0GHD4n",
        "outputId": "022b1846-fa6f-40af-fd5c-ca1f0fc005dc"
      },
      "source": [
        "chisquare(f_obs_type, f_exp=f_exp_type)"
      ],
      "execution_count": null,
      "outputs": [
        {
          "output_type": "execute_result",
          "data": {
            "text/plain": [
              "Power_divergenceResult(statistic=2.18662478513726, pvalue=0.3351046551310318)"
            ]
          },
          "metadata": {
            "tags": []
          },
          "execution_count": 19
        }
      ]
    },
    {
      "cell_type": "markdown",
      "metadata": {
        "id": "or4qS5E3HJcY"
      },
      "source": [
        "Question: do we need to define the dimension???"
      ]
    },
    {
      "cell_type": "markdown",
      "metadata": {
        "id": "btohX7dmHW0c"
      },
      "source": [
        "For page, because found out that the number of unique pages are different after the modification, took a SHORTCUT by making sure that `f_exp_page` & `f_obs_page` are of the same length. \n",
        "\n",
        "Assumption that the pages orders are still the same..."
      ]
    },
    {
      "cell_type": "code",
      "metadata": {
        "colab": {
          "base_uri": "https://localhost:8080/"
        },
        "id": "5YRzIOKhHw2H",
        "outputId": "54e06133-3c8f-486a-e88f-8a6994483ac0"
      },
      "source": [
        "if len(f_obs_page) > len(f_exp_page):\n",
        "  diff = abs(len(f_obs_page) - len(f_exp_page))\n",
        "  print(\"different number of unique pages...\")\n",
        "  print(\"f_obs larger...\")\n",
        "  print(\"difference by\", diff)\n",
        "  f_obs_page.drop(f_obs_page.tail(diff).index,inplace=True)\n",
        "elif len(f_obs_page) < len(f_exp_page):\n",
        "  diff = abs(len(f_obs_page) - len(f_exp_page))\n",
        "  print(\"different number of unique pages...\")\n",
        "  print(\"f_exp larger...\")\n",
        "  print(\"difference by\", diff)\n",
        "  f_exp_page.drop(f_exp_page.tail(diff).index,inplace=True)\n",
        "else:\n",
        "  print(\"both lenght same...\")"
      ],
      "execution_count": null,
      "outputs": [
        {
          "output_type": "stream",
          "text": [
            "different number of unique pages...\n",
            "f_obs larger...\n",
            "difference by 1\n"
          ],
          "name": "stdout"
        }
      ]
    },
    {
      "cell_type": "code",
      "metadata": {
        "colab": {
          "base_uri": "https://localhost:8080/"
        },
        "id": "sHMeWoyhHSDZ",
        "outputId": "78257e94-41ac-45b4-ed6e-6229649532e1"
      },
      "source": [
        "chisquare(f_obs_page, f_exp=f_exp_page)"
      ],
      "execution_count": null,
      "outputs": [
        {
          "output_type": "execute_result",
          "data": {
            "text/plain": [
              "Power_divergenceResult(statistic=7.510198308575736, pvalue=0.9999999993567241)"
            ]
          },
          "metadata": {
            "tags": []
          },
          "execution_count": 26
        }
      ]
    },
    {
      "cell_type": "code",
      "metadata": {
        "id": "sa_c8mpUIXt1"
      },
      "source": [
        ""
      ],
      "execution_count": null,
      "outputs": []
    },
    {
      "cell_type": "code",
      "metadata": {
        "id": "y1TwKr0fHUeA"
      },
      "source": [
        ""
      ],
      "execution_count": null,
      "outputs": []
    },
    {
      "cell_type": "markdown",
      "metadata": {
        "id": "PxZc9zTUJVZz"
      },
      "source": [
        "# Addtional: Plotting/ Visualisation"
      ]
    },
    {
      "cell_type": "code",
      "metadata": {
        "colab": {
          "base_uri": "https://localhost:8080/",
          "height": 450
        },
        "id": "ssdvsgiXJabn",
        "outputId": "e9a399bf-9792-48a8-92e6-22432e7ffded"
      },
      "source": [
        "prob = df['Page_New'].value_counts(normalize=True)\n",
        "threshold = 0.01\n",
        "mask = prob > threshold\n",
        "tail_prob = prob.loc[~mask].sum()\n",
        "prob = prob.loc[mask]\n",
        "prob['other'] = tail_prob\n",
        "prob.plot(kind='bar')"
      ],
      "execution_count": null,
      "outputs": [
        {
          "output_type": "execute_result",
          "data": {
            "text/plain": [
              "<matplotlib.axes._subplots.AxesSubplot at 0x7f255d172550>"
            ]
          },
          "metadata": {
            "tags": []
          },
          "execution_count": 27
        },
        {
          "output_type": "display_data",
          "data": {
            "image/png": "[encoded data removed]",
            "text/plain": [
              "<Figure size 432x288 with 1 Axes>"
            ]
          },
          "metadata": {
            "tags": [],
            "needs_background": "light"
          }
        }
      ]
    },
    {
      "cell_type": "code",
      "metadata": {
        "colab": {
          "base_uri": "https://localhost:8080/",
          "height": 353
        },
        "id": "Y_f0HhTNJeV8",
        "outputId": "656bbbbb-97ea-4775-fa56-1c174bb3ff15"
      },
      "source": [
        "import seaborn as sns\n",
        "prob = df['Page_New'].value_counts(normalize=True)\n",
        "sns.distplot(prob, hist=True, kde=True)"
      ],
      "execution_count": null,
      "outputs": [
        {
          "output_type": "stream",
          "text": [
            "/usr/local/lib/python3.6/dist-packages/seaborn/distributions.py:2551: FutureWarning: `distplot` is a deprecated function and will be removed in a future version. Please adapt your code to use either `displot` (a figure-level function with similar flexibility) or `histplot` (an axes-level function for histograms).\n",
            "  warnings.warn(msg, FutureWarning)\n"
          ],
          "name": "stderr"
        },
        {
          "output_type": "execute_result",
          "data": {
            "text/plain": [
              "<matplotlib.axes._subplots.AxesSubplot at 0x7f255c3e1198>"
            ]
          },
          "metadata": {
            "tags": []
          },
          "execution_count": 28
        },
        {
          "output_type": "display_data",
          "data": {
            "image/png": "[encoded data removed]",
            "text/plain": [
              "<Figure size 432x288 with 1 Axes>"
            ]
          },
          "metadata": {
            "tags": [],
            "needs_background": "light"
          }
        }
      ]
    },
    {
      "cell_type": "code",
      "metadata": {
        "colab": {
          "base_uri": "https://localhost:8080/",
          "height": 353
        },
        "id": "PQd2O6oWJgv6",
        "outputId": "0140d300-340a-4aed-cfc2-082cfff197ce"
      },
      "source": [
        "import seaborn as sns\n",
        "prob = df['Page_New'].value_counts(normalize=False)\n",
        "sns.distplot(prob, hist=False, kde=True)"
      ],
      "execution_count": null,
      "outputs": [
        {
          "output_type": "stream",
          "text": [
            "/usr/local/lib/python3.6/dist-packages/seaborn/distributions.py:2551: FutureWarning: `distplot` is a deprecated function and will be removed in a future version. Please adapt your code to use either `displot` (a figure-level function with similar flexibility) or `kdeplot` (an axes-level function for kernel density plots).\n",
            "  warnings.warn(msg, FutureWarning)\n"
          ],
          "name": "stderr"
        },
        {
          "output_type": "execute_result",
          "data": {
            "text/plain": [
              "<matplotlib.axes._subplots.AxesSubplot at 0x7f255d1932e8>"
            ]
          },
          "metadata": {
            "tags": []
          },
          "execution_count": 29
        },
        {
          "output_type": "display_data",
          "data": {
            "image/png": "[encoded data removed]",
            "text/plain": [
              "<Figure size 432x288 with 1 Axes>"
            ]
          },
          "metadata": {
            "tags": [],
            "needs_background": "light"
          }
        }
      ]
    },
    {
      "cell_type": "code",
      "metadata": {
        "id": "2YHkQEWyJkGS"
      },
      "source": [
        ""
      ],
      "execution_count": null,
      "outputs": []
    }
  ]
}